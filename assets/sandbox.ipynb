{
 "cells": [
  {
   "cell_type": "code",
   "execution_count": 1,
   "id": "f26ca375",
   "metadata": {},
   "outputs": [],
   "source": [
    "import os, subprocess"
   ]
  },
  {
   "cell_type": "code",
   "execution_count": 2,
   "id": "23986b1f",
   "metadata": {},
   "outputs": [
    {
     "name": "stdout",
     "output_type": "stream",
     "text": [
      "\\documentclass[pdftitle={Michael Tran Resume},pdfauthor={Michael Tran}]{resume}\n",
      "\\begin{document}\n",
      "\n",
      "\\makeheader{Michael Tran}{mctran1724.github.io}{mctran1724.github.io}{linkedin.com/in/mctran17}{linkedin.com/in/mctran17}{Morris Plains, NJ}{(973) 885-5019}{MichaelCTran21@gmail.com}\n",
      "\n",
      "\\separator\n",
      "\n",
      "\\section{PROFESSIONAL SUMMARY}\n",
      "A dedicated technologist passionate about leveraging data to drive informed decision-making. Experienced in transforming data into actionable insights and reports, particularly within fast-paced environments. Proven ability to streamline processes, automate reporting, and collaborate with business units to improve operational excellence. Seeking to contribute technical expertise in Python, SQL, and data visualization to enhance analytics and business intelligence capabilities.\n",
      "\n",
      "\\separator\n",
      "\n",
      "\\section{EXPERIENCE}\n",
      "\n",
      "\\begin{experience}{Knoll Indoor Tennis Club}{Lake Hiawatha, NJ}{Strategy and Business Analytics}{May 2024 -}\n",
      "    \\item Analyzed court occupancy metrics and provided data-driven recommendations, optimizing court time utilization to enhance resource allocation\n",
      "    \\item Tracked program metrics and synthesized consumer feedback to identify opportunities for improvement, increasing marketability and participation in future events\n",
      "    \\item Gathered and synthesized consumer feedback to make quality of life improvements to the club\n",
      "    \\item Developed pro shop inventory predictive modeling to boost sales\n",
      "\\end{experience}\n",
      "\n",
      "\\begin{experience}{Citigroup Global Spread Products}{New York, NY}{Sales and Trading Technology Analyst}{Nov 2021 - May 2023}\n",
      "    \\item Developed and maintained teamwide Apache Airflow protocol, orchestrating the automation of over 50 manual desk tasks with Python, streamlining workflows and enhancing efficiency\n",
      "    \\item Crafted automated data processing pipelines to deliver comprehensive sales and trading client performance reports across millions of trades to desk heads, enabling data-driven decision-making\n",
      "    \\item Built over one dozen interactive dashboards and reports using data visualization tools to track sales volumes and salesperson performance, providing actionable insights to business units\n",
      "    \\item Created heuristic modeling to predict daily muni trading PnL with $<$ 5\\% error rate to alleviate high risk manual process\n",
      "    \\item Coordinated desk, quants, and IT to build strategic hooks and tech managed APIs\n",
      "    \\item Co-owned and maintained RHEL server to enable testing and deployment of reports and pipelines in Linux environments\n",
      "\\end{experience}\n",
      "\n",
      "\\begin{experience}{Rutgers Physics High Energy Experimentation}{New Brunswick, NJ}{ML Research Assistant}{Dec 2019 - May 2021}\n",
      "    \\item Developed and optimized a CNN autoencoder in Python for anomaly detection in particle accelerator jet images\n",
      "    \\item Improved latent space analysis script runtime to enable faster model development and iteration\n",
      "    \\item Reduced memory footprint to speed up training on over 4 million jet images using generators for data loading\n",
      "    \\item Implemented decision tree boosting algorithms to double efficiency in signal detection using latent space representation\n",
      "    \\item Wrote and defended senior honors thesis on project research, receiving high honors in physics\n",
      "\\end{experience}\n",
      "\n",
      "\\separator\n",
      "\n",
      "\\section{EDUCATION}\n",
      "\n",
      "\\begin{educationentry}{Rutgers University - Honors College}{New Brunswick, NJ}{B.S. in Physics, B.S. in Chemistry: Summa Cum Laude}{May 2021}{{GPA: 3.9/4.0}}\n",
      "\\end{educationentry}\n",
      "\n",
      "\\begin{educationentry}{Google}{}{Advanced Data Analytics}{May 2024}{}\n",
      "\\end{educationentry}\n",
      "\n",
      "\\separator\n",
      "\n",
      "\\section{ADDITIONAL INFORMATION}\n",
      "\n",
      "\\textbf{Skills and Technologies}\n",
      "\\begin{itemize}\n",
      "    \\item Computation: Python, Excel, Jupyter\n",
      "    \\item Libraries/Frameworks NumPy, SciPy, Pandas, Polars, sci-kit learn, TensorFlow, Keras\n",
      "    \\item Database: MS SQL Server, Oracle\n",
      "    \\item Visualization Matplotlib, Seaborn, Qlik, Tableau\n",
      "    \\item Other GitHub, Airflow, Bitbucket, Anaconda, UV , Linux\n",
      "\\end{itemize}\n",
      "\n",
      "\\end{document}\n",
      "\n"
     ]
    }
   ],
   "source": [
    "latex_file_path = \"C:/Users/Micha/Desktop/Projects/personal/ResumeAI/assets/resume_temp.tex\"\n",
    "\n",
    "with open(latex_file_path, \"r\") as file:    \n",
    "    latex_code = file.read()\n",
    "\n",
    "print(latex_code)"
   ]
  },
  {
   "cell_type": "code",
   "execution_count": 10,
   "id": "1c80ec84",
   "metadata": {},
   "outputs": [
    {
     "data": {
      "text/plain": [
       "'C:/Users/Micha/Desktop/Projects/personal/ResumeAI/assets'"
      ]
     },
     "execution_count": 10,
     "metadata": {},
     "output_type": "execute_result"
    }
   ],
   "source": [
    "os.path.dirname(latex_file_path)"
   ]
  },
  {
   "cell_type": "code",
   "execution_count": 3,
   "id": "dc79a836",
   "metadata": {},
   "outputs": [
    {
     "data": {
      "text/plain": [
       "CompletedProcess(args=['pdflatex', 'C:/Users/Micha/Desktop/Projects/personal/ResumeAI/assets/resume_temp.tex'], returncode=0)"
      ]
     },
     "execution_count": 3,
     "metadata": {},
     "output_type": "execute_result"
    }
   ],
   "source": [
    "os.chdir(os.path.dirname(latex_file_path))\n",
    "subprocess.run([\"pdflatex\", latex_file_path])\n"
   ]
  },
  {
   "cell_type": "code",
   "execution_count": 11,
   "id": "6bbc2802",
   "metadata": {},
   "outputs": [
    {
     "data": {
      "text/plain": [
       "1"
      ]
     },
     "execution_count": 11,
     "metadata": {},
     "output_type": "execute_result"
    }
   ],
   "source": [
    "os.system(f\"pdflatex {latex_file_path}  C:/Users/Micha/Desktop/Projects/personal/ResumeAI/assets/\")"
   ]
  },
  {
   "cell_type": "code",
   "execution_count": null,
   "id": "c7ecb5ff",
   "metadata": {},
   "outputs": [
    {
     "data": {
      "text/plain": [
       "'pdflatex C:/Users/Micha/Desktop/Projects/personal/ResumeAI/assets/resume_temp.tex resume_temp.pdf'"
      ]
     },
     "execution_count": 10,
     "metadata": {},
     "output_type": "execute_result"
    }
   ],
   "source": []
  }
 ],
 "metadata": {
  "kernelspec": {
   "display_name": ".venv",
   "language": "python",
   "name": "python3"
  },
  "language_info": {
   "codemirror_mode": {
    "name": "ipython",
    "version": 3
   },
   "file_extension": ".py",
   "mimetype": "text/x-python",
   "name": "python",
   "nbconvert_exporter": "python",
   "pygments_lexer": "ipython3",
   "version": "3.13.2"
  }
 },
 "nbformat": 4,
 "nbformat_minor": 5
}
