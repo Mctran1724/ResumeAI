{
 "cells": [
  {
   "cell_type": "code",
   "execution_count": 2,
   "id": "de8942ee",
   "metadata": {},
   "outputs": [],
   "source": [
    "import os, pathlib"
   ]
  },
  {
   "cell_type": "code",
   "execution_count": null,
   "id": "ec2d80dd",
   "metadata": {},
   "outputs": [
    {
     "name": "stdout",
     "output_type": "stream",
     "text": [
      "\\documentclass[pdftitle={Michael Tran Resume},pdfauthor={Michael Tran}]{resume}\n",
      "\\begin{document}\n",
      "\n",
      "\\makeheader{Michael Tran}{mctran1724.github.io}{mctran1724.github.io}{linkedin.com/in/mctran17}{linkedin.com/in/mctran17}{Morris Plains, NJ}{(973) 885-5019}{MichaelCTran21@gmail.com}\n",
      "\n",
      "\\separator\n",
      "\n",
      "\\section{PROFESSIONAL SUMMARY}\n",
      "A dedicated technologist passionate about leveraging data to drive informed decision-making. Experienced in transforming data into actionable insights and reports, particularly within fast-paced environments. Proven ability to streamline processes, automate reporting, and collaborate with business units to improve operational excellence. Seeking to contribute technical expertise in Python, SQL, and data visualization to enhance analytics and business intelligence capabilities.\n",
      "\n",
      "\\separator\n",
      "\n",
      "\\section{EXPERIENCE}\n",
      "\n",
      "\\begin{experience}{Knoll Indoor Tennis Club}{Lake Hiawatha, NJ}{Strategy and Business Analytics}{May 2024 -}\n",
      "    \\item Analyzed court occupancy metrics and provided data-driven recommendations, optimizing court time utilization to enhance resource allocation\n",
      "    \\item Tracked program metrics and synthesized consumer feedback to identify opportunities for improvement, increasing marketability and participation in future events\n",
      "    \\item Gathered and synthesized consumer feedback to make quality of life improvements to the club\n",
      "    \\item Developed pro shop inventory predictive modeling to boost sales\n",
      "\\end{experience}\n",
      "\n",
      "\\begin{experience}{Citigroup Global Spread Products}{New York, NY}{Sales and Trading Technology Analyst}{Nov 2021 - May 2023}\n",
      "    \\item Developed and maintained teamwide Apache Airflow protocol, orchestrating the automation of over 50 manual desk tasks with Python, streamlining workflows and enhancing efficiency\n",
      "    \\item Crafted automated data processing pipelines to deliver comprehensive sales and trading client performance reports across millions of trades to desk heads, enabling data-driven decision-making\n",
      "    \\item Built over one dozen interactive dashboards and reports using data visualization tools to track sales volumes and salesperson performance, providing actionable insights to business units\n",
      "    \\item Created heuristic modeling to predict daily muni trading PnL with $$<$$ 5\\% error rate to alleviate high risk manual process\n",
      "    \\item Coordinated desk, quants, and IT to build strategic hooks and tech managed APIs\n",
      "    \\item Co-owned and maintained RHEL server to enable testing and deployment of reports and pipelines in Linux environments\n",
      "\\end{experience}\n",
      "\n",
      "\\begin{experience}{Rutgers Physics High Energy Experimentation}{New Brunswick, NJ}{ML Research Assistant}{Dec 2019 - May 2021}\n",
      "    \\item Developed and optimized a CNN autoencoder in Python for anomaly detection in particle accelerator jet images\n",
      "    \\item Improved latent space analysis script runtime to enable faster model development and iteration\n",
      "    \\item Reduced memory footprint to speed up training on over 4 million jet images using generators for data loading\n",
      "    \\item Implemented decision tree boosting algorithms to double efficiency in signal detection using latent space representation\n",
      "    \\item Wrote and defended senior honors thesis on project research, receiving high honors in physics\n",
      "\\end{experience}\n",
      "\n",
      "\\separator\n",
      "\n",
      "\\section{EDUCATION}\n",
      "\n",
      "\\begin{educationentry}{Rutgers University - Honors College}{New Brunswick, NJ}{B.S. in Physics, B.S. in Chemistry: Summa Cum Laude}{May 2021}{{GPA: 3.9/4.0}}\n",
      "\\end{educationentry}\n",
      "\n",
      "\\begin{educationentry}{Google}{}{Advanced Data Analytics}{May 2024}{}\n",
      "\\end{educationentry}\n",
      "\n",
      "\\separator\n",
      "\n",
      "\\section{ADDITIONAL INFORMATION}\n",
      "\n",
      "\\textbf{Skills and Technologies}\n",
      "\\begin{itemize}\n",
      "    \\item Computation: Python, Excel, Jupyter\n",
      "    \\item Libraries/Frameworks NumPy, SciPy, Pandas, Polars, sci-kit learn, TensorFlow, Keras\n",
      "    \\item Database: MS SQL Server, Oracle\n",
      "    \\item Visualization Matplotlib, Seaborn, Qlik, Tableau\n",
      "    \\item Other GitHub, Airflow, Bitbucket, Anaconda, UV , Linux\n",
      "\\end{itemize}\n",
      "\n",
      "\\end{document}\n",
      "\n"
     ]
    }
   ],
   "source": [
    "path = pathlib.Path(__name__).parent / 'assets' / 'resume_temp.tex'\n",
    "print(path.read_text())\n"
   ]
  },
  {
   "cell_type": "code",
   "execution_count": null,
   "id": "9ba79b58",
   "metadata": {},
   "outputs": [],
   "source": []
  },
  {
   "cell_type": "code",
   "execution_count": null,
   "id": "65a9a70c",
   "metadata": {},
   "outputs": [
    {
     "name": "stdout",
     "output_type": "stream",
     "text": [
      "assets\\resume_temp.tex\n"
     ]
    }
   ],
   "source": [
    "text = path.read_text()"
   ]
  },
  {
   "cell_type": "code",
   "execution_count": 23,
   "id": "4d1f38cf",
   "metadata": {},
   "outputs": [
    {
     "ename": "FileNotFoundError",
     "evalue": "[WinError 2] The system cannot find the file specified",
     "output_type": "error",
     "traceback": [
      "\u001b[31m---------------------------------------------------------------------------\u001b[39m",
      "\u001b[31mFileNotFoundError\u001b[39m                         Traceback (most recent call last)",
      "\u001b[36mCell\u001b[39m\u001b[36m \u001b[39m\u001b[32mIn[23]\u001b[39m\u001b[32m, line 4\u001b[39m\n\u001b[32m      1\u001b[39m \u001b[38;5;28;01mfrom\u001b[39;00m\u001b[38;5;250m \u001b[39m\u001b[34;01mpdflatex\u001b[39;00m\u001b[38;5;250m \u001b[39m\u001b[38;5;28;01mimport\u001b[39;00m PDFLaTeX\n\u001b[32m      3\u001b[39m pdfl = PDFLaTeX.from_texfile(path)\n\u001b[32m----> \u001b[39m\u001b[32m4\u001b[39m pdf, log, cp = \u001b[43mpdfl\u001b[49m\u001b[43m.\u001b[49m\u001b[43mcreate_pdf\u001b[49m\u001b[43m(\u001b[49m\u001b[43mkeep_pdf_file\u001b[49m\u001b[43m=\u001b[49m\u001b[38;5;28;43;01mTrue\u001b[39;49;00m\u001b[43m,\u001b[49m\u001b[43m \u001b[49m\u001b[43mkeep_log_file\u001b[49m\u001b[43m=\u001b[49m\u001b[38;5;28;43;01mTrue\u001b[39;49;00m\u001b[43m)\u001b[49m\n",
      "\u001b[36mFile \u001b[39m\u001b[32mc:\\Users\\Micha\\Desktop\\Projects\\personal\\ResumeAI\\.venv\\Lib\\site-packages\\pdflatex\\pdflatex.py:76\u001b[39m, in \u001b[36mPDFLaTeX.create_pdf\u001b[39m\u001b[34m(self, keep_pdf_file, keep_log_file, env)\u001b[39m\n\u001b[32m     73\u001b[39m \u001b[38;5;28mself\u001b[39m.set_jobname(\u001b[33m'\u001b[39m\u001b[33mfile\u001b[39m\u001b[33m'\u001b[39m)\n\u001b[32m     75\u001b[39m args = \u001b[38;5;28mself\u001b[39m.get_run_args()\n\u001b[32m---> \u001b[39m\u001b[32m76\u001b[39m fp = \u001b[43msubprocess\u001b[49m\u001b[43m.\u001b[49m\u001b[43mrun\u001b[49m\u001b[43m(\u001b[49m\u001b[43margs\u001b[49m\u001b[43m,\u001b[49m\u001b[43m \u001b[49m\u001b[38;5;28;43minput\u001b[39;49m\u001b[43m=\u001b[49m\u001b[38;5;28;43mself\u001b[39;49m\u001b[43m.\u001b[49m\u001b[43mlatex\u001b[49m\u001b[43m,\u001b[49m\u001b[43m \u001b[49m\u001b[43menv\u001b[49m\u001b[43m=\u001b[49m\u001b[43menv\u001b[49m\u001b[43m,\u001b[49m\u001b[43m \u001b[49m\u001b[43mtimeout\u001b[49m\u001b[43m=\u001b[49m\u001b[32;43m15\u001b[39;49m\u001b[43m,\u001b[49m\u001b[43m \u001b[49m\u001b[43mstdout\u001b[49m\u001b[43m=\u001b[49m\u001b[43mPIPE\u001b[49m\u001b[43m,\u001b[49m\u001b[43m \u001b[49m\u001b[43mstderr\u001b[49m\u001b[43m=\u001b[49m\u001b[43mPIPE\u001b[49m\u001b[43m)\u001b[49m\n\u001b[32m     77\u001b[39m \u001b[38;5;28;01mwith\u001b[39;00m \u001b[38;5;28mopen\u001b[39m(os.path.join(td, \u001b[33m'\u001b[39m\u001b[33mfile.pdf\u001b[39m\u001b[33m'\u001b[39m), \u001b[33m'\u001b[39m\u001b[33mrb\u001b[39m\u001b[33m'\u001b[39m) \u001b[38;5;28;01mas\u001b[39;00m f:\n\u001b[32m     78\u001b[39m     \u001b[38;5;28mself\u001b[39m.pdf = f.read()\n",
      "\u001b[36mFile \u001b[39m\u001b[32m~\\AppData\\Roaming\\uv\\python\\cpython-3.13.2-windows-x86_64-none\\Lib\\subprocess.py:556\u001b[39m, in \u001b[36mrun\u001b[39m\u001b[34m(input, capture_output, timeout, check, *popenargs, **kwargs)\u001b[39m\n\u001b[32m    553\u001b[39m     kwargs[\u001b[33m'\u001b[39m\u001b[33mstdout\u001b[39m\u001b[33m'\u001b[39m] = PIPE\n\u001b[32m    554\u001b[39m     kwargs[\u001b[33m'\u001b[39m\u001b[33mstderr\u001b[39m\u001b[33m'\u001b[39m] = PIPE\n\u001b[32m--> \u001b[39m\u001b[32m556\u001b[39m \u001b[38;5;28;01mwith\u001b[39;00m \u001b[43mPopen\u001b[49m\u001b[43m(\u001b[49m\u001b[43m*\u001b[49m\u001b[43mpopenargs\u001b[49m\u001b[43m,\u001b[49m\u001b[43m \u001b[49m\u001b[43m*\u001b[49m\u001b[43m*\u001b[49m\u001b[43mkwargs\u001b[49m\u001b[43m)\u001b[49m \u001b[38;5;28;01mas\u001b[39;00m process:\n\u001b[32m    557\u001b[39m     \u001b[38;5;28;01mtry\u001b[39;00m:\n\u001b[32m    558\u001b[39m         stdout, stderr = process.communicate(\u001b[38;5;28minput\u001b[39m, timeout=timeout)\n",
      "\u001b[36mFile \u001b[39m\u001b[32m~\\AppData\\Roaming\\uv\\python\\cpython-3.13.2-windows-x86_64-none\\Lib\\subprocess.py:1038\u001b[39m, in \u001b[36mPopen.__init__\u001b[39m\u001b[34m(self, args, bufsize, executable, stdin, stdout, stderr, preexec_fn, close_fds, shell, cwd, env, universal_newlines, startupinfo, creationflags, restore_signals, start_new_session, pass_fds, user, group, extra_groups, encoding, errors, text, umask, pipesize, process_group)\u001b[39m\n\u001b[32m   1034\u001b[39m         \u001b[38;5;28;01mif\u001b[39;00m \u001b[38;5;28mself\u001b[39m.text_mode:\n\u001b[32m   1035\u001b[39m             \u001b[38;5;28mself\u001b[39m.stderr = io.TextIOWrapper(\u001b[38;5;28mself\u001b[39m.stderr,\n\u001b[32m   1036\u001b[39m                     encoding=encoding, errors=errors)\n\u001b[32m-> \u001b[39m\u001b[32m1038\u001b[39m     \u001b[38;5;28;43mself\u001b[39;49m\u001b[43m.\u001b[49m\u001b[43m_execute_child\u001b[49m\u001b[43m(\u001b[49m\u001b[43margs\u001b[49m\u001b[43m,\u001b[49m\u001b[43m \u001b[49m\u001b[43mexecutable\u001b[49m\u001b[43m,\u001b[49m\u001b[43m \u001b[49m\u001b[43mpreexec_fn\u001b[49m\u001b[43m,\u001b[49m\u001b[43m \u001b[49m\u001b[43mclose_fds\u001b[49m\u001b[43m,\u001b[49m\n\u001b[32m   1039\u001b[39m \u001b[43m                        \u001b[49m\u001b[43mpass_fds\u001b[49m\u001b[43m,\u001b[49m\u001b[43m \u001b[49m\u001b[43mcwd\u001b[49m\u001b[43m,\u001b[49m\u001b[43m \u001b[49m\u001b[43menv\u001b[49m\u001b[43m,\u001b[49m\n\u001b[32m   1040\u001b[39m \u001b[43m                        \u001b[49m\u001b[43mstartupinfo\u001b[49m\u001b[43m,\u001b[49m\u001b[43m \u001b[49m\u001b[43mcreationflags\u001b[49m\u001b[43m,\u001b[49m\u001b[43m \u001b[49m\u001b[43mshell\u001b[49m\u001b[43m,\u001b[49m\n\u001b[32m   1041\u001b[39m \u001b[43m                        \u001b[49m\u001b[43mp2cread\u001b[49m\u001b[43m,\u001b[49m\u001b[43m \u001b[49m\u001b[43mp2cwrite\u001b[49m\u001b[43m,\u001b[49m\n\u001b[32m   1042\u001b[39m \u001b[43m                        \u001b[49m\u001b[43mc2pread\u001b[49m\u001b[43m,\u001b[49m\u001b[43m \u001b[49m\u001b[43mc2pwrite\u001b[49m\u001b[43m,\u001b[49m\n\u001b[32m   1043\u001b[39m \u001b[43m                        \u001b[49m\u001b[43merrread\u001b[49m\u001b[43m,\u001b[49m\u001b[43m \u001b[49m\u001b[43merrwrite\u001b[49m\u001b[43m,\u001b[49m\n\u001b[32m   1044\u001b[39m \u001b[43m                        \u001b[49m\u001b[43mrestore_signals\u001b[49m\u001b[43m,\u001b[49m\n\u001b[32m   1045\u001b[39m \u001b[43m                        \u001b[49m\u001b[43mgid\u001b[49m\u001b[43m,\u001b[49m\u001b[43m \u001b[49m\u001b[43mgids\u001b[49m\u001b[43m,\u001b[49m\u001b[43m \u001b[49m\u001b[43muid\u001b[49m\u001b[43m,\u001b[49m\u001b[43m \u001b[49m\u001b[43mumask\u001b[49m\u001b[43m,\u001b[49m\n\u001b[32m   1046\u001b[39m \u001b[43m                        \u001b[49m\u001b[43mstart_new_session\u001b[49m\u001b[43m,\u001b[49m\u001b[43m \u001b[49m\u001b[43mprocess_group\u001b[49m\u001b[43m)\u001b[49m\n\u001b[32m   1047\u001b[39m \u001b[38;5;28;01mexcept\u001b[39;00m:\n\u001b[32m   1048\u001b[39m     \u001b[38;5;66;03m# Cleanup if the child failed starting.\u001b[39;00m\n\u001b[32m   1049\u001b[39m     \u001b[38;5;28;01mfor\u001b[39;00m f \u001b[38;5;129;01min\u001b[39;00m \u001b[38;5;28mfilter\u001b[39m(\u001b[38;5;28;01mNone\u001b[39;00m, (\u001b[38;5;28mself\u001b[39m.stdin, \u001b[38;5;28mself\u001b[39m.stdout, \u001b[38;5;28mself\u001b[39m.stderr)):\n",
      "\u001b[36mFile \u001b[39m\u001b[32m~\\AppData\\Roaming\\uv\\python\\cpython-3.13.2-windows-x86_64-none\\Lib\\subprocess.py:1550\u001b[39m, in \u001b[36mPopen._execute_child\u001b[39m\u001b[34m(self, args, executable, preexec_fn, close_fds, pass_fds, cwd, env, startupinfo, creationflags, shell, p2cread, p2cwrite, c2pread, c2pwrite, errread, errwrite, unused_restore_signals, unused_gid, unused_gids, unused_uid, unused_umask, unused_start_new_session, unused_process_group)\u001b[39m\n\u001b[32m   1548\u001b[39m \u001b[38;5;66;03m# Start the process\u001b[39;00m\n\u001b[32m   1549\u001b[39m \u001b[38;5;28;01mtry\u001b[39;00m:\n\u001b[32m-> \u001b[39m\u001b[32m1550\u001b[39m     hp, ht, pid, tid = \u001b[43m_winapi\u001b[49m\u001b[43m.\u001b[49m\u001b[43mCreateProcess\u001b[49m\u001b[43m(\u001b[49m\u001b[43mexecutable\u001b[49m\u001b[43m,\u001b[49m\u001b[43m \u001b[49m\u001b[43margs\u001b[49m\u001b[43m,\u001b[49m\n\u001b[32m   1551\u001b[39m \u001b[43m                             \u001b[49m\u001b[38;5;66;43;03m# no special security\u001b[39;49;00m\n\u001b[32m   1552\u001b[39m \u001b[43m                             \u001b[49m\u001b[38;5;28;43;01mNone\u001b[39;49;00m\u001b[43m,\u001b[49m\u001b[43m \u001b[49m\u001b[38;5;28;43;01mNone\u001b[39;49;00m\u001b[43m,\u001b[49m\n\u001b[32m   1553\u001b[39m \u001b[43m                             \u001b[49m\u001b[38;5;28;43mint\u001b[39;49m\u001b[43m(\u001b[49m\u001b[38;5;129;43;01mnot\u001b[39;49;00m\u001b[43m \u001b[49m\u001b[43mclose_fds\u001b[49m\u001b[43m)\u001b[49m\u001b[43m,\u001b[49m\n\u001b[32m   1554\u001b[39m \u001b[43m                             \u001b[49m\u001b[43mcreationflags\u001b[49m\u001b[43m,\u001b[49m\n\u001b[32m   1555\u001b[39m \u001b[43m                             \u001b[49m\u001b[43menv\u001b[49m\u001b[43m,\u001b[49m\n\u001b[32m   1556\u001b[39m \u001b[43m                             \u001b[49m\u001b[43mcwd\u001b[49m\u001b[43m,\u001b[49m\n\u001b[32m   1557\u001b[39m \u001b[43m                             \u001b[49m\u001b[43mstartupinfo\u001b[49m\u001b[43m)\u001b[49m\n\u001b[32m   1558\u001b[39m \u001b[38;5;28;01mfinally\u001b[39;00m:\n\u001b[32m   1559\u001b[39m     \u001b[38;5;66;03m# Child is launched. Close the parent's copy of those pipe\u001b[39;00m\n\u001b[32m   1560\u001b[39m     \u001b[38;5;66;03m# handles that only the child should have open.  You need\u001b[39;00m\n\u001b[32m   (...)\u001b[39m\u001b[32m   1563\u001b[39m     \u001b[38;5;66;03m# pipe will not close when the child process exits and the\u001b[39;00m\n\u001b[32m   1564\u001b[39m     \u001b[38;5;66;03m# ReadFile will hang.\u001b[39;00m\n\u001b[32m   1565\u001b[39m     \u001b[38;5;28mself\u001b[39m._close_pipe_fds(p2cread, p2cwrite,\n\u001b[32m   1566\u001b[39m                          c2pread, c2pwrite,\n\u001b[32m   1567\u001b[39m                          errread, errwrite)\n",
      "\u001b[31mFileNotFoundError\u001b[39m: [WinError 2] The system cannot find the file specified"
     ]
    }
   ],
   "source": [
    "from pdflatex import PDFLaTeX\n",
    "\n",
    "pdfl = PDFLaTeX.from_texfile(path)\n",
    "pdf, log, cp = pdfl.create_pdf(keep_pdf_file=True, keep_log_file=True)"
   ]
  },
  {
   "cell_type": "code",
   "execution_count": 11,
   "id": "6e73ca14",
   "metadata": {},
   "outputs": [
    {
     "data": {
      "text/plain": [
       "'resume_temp.tex'"
      ]
     },
     "execution_count": 11,
     "metadata": {},
     "output_type": "execute_result"
    }
   ],
   "source": [
    "path.name"
   ]
  },
  {
   "cell_type": "code",
   "execution_count": 9,
   "id": "23d69a3a",
   "metadata": {},
   "outputs": [
    {
     "name": "stdout",
     "output_type": "stream",
     "text": [
      "Okay, I understand. I will analyze the resume and job description, identify areas of alignment and gaps, and then rewrite the resume's bullet points and professional summary to highlight relevant skills and experience, incorporating keywords and quantifiable achievements where possible. I will focus on clarity, conciseness, and maintaining authenticity.\n",
      "\n",
      "Here is the optimized resume text, with modified sections clearly indicated:\n",
      "\n",
      "**Optimized Resume Text: Michael Tran**\n",
      "\n",
      "Portfolio Website: mctran1724.github.io ⋄ Social Media: linkedin.com/in/mctran17\n",
      "Morris Plains, NJ\n",
      "(973) 885-5019 ⋄ MichaelCTran21@gmail.com\n",
      "\n",
      "**PROFESSIONAL SUMMARY (Modified)**\n",
      "\n",
      "A dedicated technologist with a passion for leveraging data to drive data-driven decision making and generate actionable insights. Experienced in providing data, insights, and automation to stakeholders in a fast-paced environment. Seeking to apply my academic research background and technological expertise in Python, SQL, and Linux to contribute to the implementation of Business Intelligence solutions and enhance internal customer experience.\n",
      "\n",
      "**EXPERIENCE**\n",
      "\n",
      "Knoll Indoor Tennis Club Lake Hiawatha, NJ\n",
      "Strategy and Business Analytics May 2024 -\n",
      "\n",
      "*   Analyzed court occupancy metrics to optimize court time utilization\n",
      "*   Tracked program metrics to increase marketability and participation in future events\n",
      "*   Gathered and synthesized consumer feedback to make quality of life improvements to the club\n",
      "*   Developed pro shop inventory predictive modeling to boost sales\n",
      "\n",
      "Citigroup Global Spread Products New York, NY\n",
      "Sales and Trading Technology Analyst Nov 2021 - May 2023\n",
      "\n",
      "*   Developed team-wide Apache Airflow protocol to orchestrate the automation of over 50 manual desk tasks with Python, streamlining reporting processes.\n",
      "*   Crafted automated data processing to deliver sales and trading client performance across millions of trades to desk heads, contributing to effective performance analysis and improved operational excellence.\n",
      "*   Built over one dozen dashboards and reports to track sales volumes and salesperson performance, facilitating decision-making through effective performance analysis.\n",
      "*   Created heuristic modeling to predict daily muni trading PnL with < 5% error rate to alleviate high-risk manual process.\n",
      "*   Coordinated desk, quants, and IT to build strategic hooks and tech managed APIs\n",
      "*   Co-owned and maintained RHEL server to enable testing and deployment of reports and pipelines in Linux environments\n",
      "\n",
      "Rutgers Physics High Energy Experimentation New Brunswick, NJ\n",
      "ML Research Assistant Dec 2019 - May 2021\n",
      "\n",
      "*   Developed and optimized a CNN autoencoder in Python for anomaly detection in particle accelerator jet images\n",
      "*   Improved latent space analysis script runtime to enable faster model development and iteration\n",
      "*   Reduced memory footprint to speed up training on over 4 million jet images using generators for data loading\n",
      "*   Implemented decision tree boosting algorithms to double efficiency in signal detection using latent space representation\n",
      "*   Wrote and defended senior honors thesis on project research, receiving high honors in physics\n",
      "\n",
      "**EDUCATION**\n",
      "\n",
      "Rutgers University - Honors College New Brunswick, NJ\n",
      "B.S. in Physics, B.S. in Chemistry: Summa Cum Laude May 2021\n",
      "GPA: 3.9/4.0\n",
      "Certiﬁcation\n",
      "Google Advanced Data Analytics May 2024\n",
      "\n",
      "**ADDITIONAL INFORMATION**\n",
      "\n",
      "Skills and Technologies\n",
      "\n",
      "*   Computation: Python, Excel, Jupyter\n",
      "*   Libraries/Frameworks NumPy, SciPy, Pandas, Polars, sci-kit learn, TensorFlow, Keras\n",
      "*   Database: MS SQL Server, Oracle\n",
      "*   Visualization Matplotlib, Seaborn, Qlik, Tableau\n",
      "*   Other GitHub, Airﬂow, Bitbucket, Anaconda, UV , Linux\n",
      "\n"
     ]
    }
   ],
   "source": [
    "response2 = resume_optimizer.optimize_resume(resume_text, job_description_text)\n",
    "print(response2.text)"
   ]
  }
 ],
 "metadata": {
  "kernelspec": {
   "display_name": ".venv",
   "language": "python",
   "name": "python3"
  },
  "language_info": {
   "codemirror_mode": {
    "name": "ipython",
    "version": 3
   },
   "file_extension": ".py",
   "mimetype": "text/x-python",
   "name": "python",
   "nbconvert_exporter": "python",
   "pygments_lexer": "ipython3",
   "version": "3.13.2"
  }
 },
 "nbformat": 4,
 "nbformat_minor": 5
}
